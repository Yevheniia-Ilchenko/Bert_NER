{
 "cells": [
  {
   "cell_type": "code",
   "execution_count": 1,
   "metadata": {},
   "outputs": [
    {
     "name": "stderr",
     "output_type": "stream",
     "text": [
      "d:\\User\\Evheniia\\test tasks\\ML_NER_CV\\.venv\\Lib\\site-packages\\tqdm\\auto.py:21: TqdmWarning: IProgress not found. Please update jupyter and ipywidgets. See https://ipywidgets.readthedocs.io/en/stable/user_install.html\n",
      "  from .autonotebook import tqdm as notebook_tqdm\n"
     ]
    },
    {
     "name": "stdout",
     "output_type": "stream",
     "text": [
      "The: O\n",
      "Dividing: O\n",
      "Range: O\n",
      "decreases: O\n",
      "north: O\n",
      "of: O\n",
      "the: O\n",
      "Kilimanjaro,: B-MOUNTAIN\n",
      "until: O\n",
      "as: O\n",
      "a: O\n",
      "mere: O\n",
      "ridge: O\n",
      "it: O\n",
      "divides: O\n",
      "the: O\n",
      "waters: O\n",
      "of: O\n",
      "the: O\n",
      "coastal: O\n",
      "rivers: O\n",
      "from: O\n",
      "those: O\n",
      "flowing: O\n",
      "to: O\n",
      "the: O\n",
      "Darling: O\n",
      "[('The', 'O'), ('Dividing', 'O'), ('Range', 'O'), ('decreases', 'O'), ('north', 'O'), ('of', 'O'), ('the', 'O'), ('Kilimanjaro,', 'B-MOUNTAIN'), ('until', 'O'), ('as', 'O'), ('a', 'O'), ('mere', 'O'), ('ridge', 'O'), ('it', 'O'), ('divides', 'O'), ('the', 'O'), ('waters', 'O'), ('of', 'O'), ('the', 'O'), ('coastal', 'O'), ('rivers', 'O'), ('from', 'O'), ('those', 'O'), ('flowing', 'O'), ('to', 'O'), ('the', 'O'), ('Darling', 'O')]\n",
      "[('The', 'O'), ('Dividing', 'O'), ('Range', 'O'), ('decreases', 'O'), ('north', 'O'), ('of', 'O'), ('the', 'O'), ('Kilimanjaro,', 'B-MOUNTAIN'), ('until', 'O'), ('as', 'O'), ('a', 'O'), ('mere', 'O'), ('ridge', 'O'), ('it', 'O'), ('divides', 'O'), ('the', 'O'), ('waters', 'O'), ('of', 'O'), ('the', 'O'), ('coastal', 'O'), ('rivers', 'O'), ('from', 'O'), ('those', 'O'), ('flowing', 'O'), ('to', 'O'), ('the', 'O'), ('Darling', 'O')]\n"
     ]
    }
   ],
   "source": [
    "from inference1 import predict\n",
    "\n",
    "sentence = \"The Dividing Range decreases north of the Kilimanjaro, until as a mere ridge it divides the waters of the coastal rivers from those flowing to the Darling\"\n",
    "prediction = predict(sentence)\n",
    "print(prediction)"
   ]
  },
  {
   "cell_type": "code",
   "execution_count": null,
   "metadata": {},
   "outputs": [],
   "source": []
  },
  {
   "cell_type": "code",
   "execution_count": null,
   "metadata": {},
   "outputs": [],
   "source": []
  }
 ],
 "metadata": {
  "kernelspec": {
   "display_name": ".venv",
   "language": "python",
   "name": "python3"
  },
  "language_info": {
   "codemirror_mode": {
    "name": "ipython",
    "version": 3
   },
   "file_extension": ".py",
   "mimetype": "text/x-python",
   "name": "python",
   "nbconvert_exporter": "python",
   "pygments_lexer": "ipython3",
   "version": "3.11.5"
  }
 },
 "nbformat": 4,
 "nbformat_minor": 2
}

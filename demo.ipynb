{
 "cells": [
  {
   "cell_type": "code",
   "execution_count": 11,
   "metadata": {},
   "outputs": [
    {
     "name": "stdout",
     "output_type": "stream",
     "text": [
      "[('The', 'O'), ('Dividing', 'O'), ('Range', 'O'), ('decreases', 'O'), ('north', 'O'), ('of', 'O'), ('the', 'O'), ('Kilimanjaro,', 'B-MOUNTAIN'), ('until', 'O'), ('as', 'O'), ('a', 'O'), ('mere', 'O'), ('ridge', 'O'), ('it', 'O'), ('divides', 'O'), ('the', 'O'), ('waters', 'O'), ('of', 'O'), ('the', 'O'), ('coastal', 'O'), ('rivers', 'O'), ('from', 'O'), ('those', 'O'), ('flowing', 'O'), ('to', 'O'), ('the', 'O'), ('Darling', 'O')]\n"
     ]
    }
   ],
   "source": [
    "from inference1 import predict\n",
    "\n",
    "sentence = \"The Dividing Range decreases north of the Kilimanjaro, until as a mere ridge it divides the waters of the coastal rivers from those flowing to the Darling\"\n",
    "prediction = predict(sentence)\n",
    "print(prediction)"
   ]
  },
  {
   "cell_type": "code",
   "execution_count": null,
   "metadata": {},
   "outputs": [],
   "source": []
  },
  {
   "cell_type": "code",
   "execution_count": null,
   "metadata": {},
   "outputs": [],
   "source": []
  }
 ],
 "metadata": {
  "kernelspec": {
   "display_name": ".venv",
   "language": "python",
   "name": "python3"
  },
  "language_info": {
   "codemirror_mode": {
    "name": "ipython",
    "version": 3
   },
   "file_extension": ".py",
   "mimetype": "text/x-python",
   "name": "python",
   "nbconvert_exporter": "python",
   "pygments_lexer": "ipython3",
   "version": "3.11.5"
  }
 },
 "nbformat": 4,
 "nbformat_minor": 2
}

{
 "cells": [
  {
   "cell_type": "markdown",
   "metadata": {},
   "source": [
    "**Documentation for the Data Processing Code**\n",
    "\n",
    "This code processes text data containing sentences with mountain names and generates annotations in the BIO (Begin-Inside-Outside) format. The process involves reading data, replacing keywords, tokenizing, annotating, and saving the results. Below is a step-by-step explanation."
   ]
  },
  {
   "cell_type": "code",
   "execution_count": 57,
   "metadata": {},
   "outputs": [
    {
     "name": "stdout",
     "output_type": "stream",
     "text": [
      "Requirement already satisfied: pandas in d:\\user\\evheniia\\test tasks\\ml_ner_cv\\.venv\\lib\\site-packages (2.2.3)\n",
      "Requirement already satisfied: numpy>=1.23.2 in d:\\user\\evheniia\\test tasks\\ml_ner_cv\\.venv\\lib\\site-packages (from pandas) (2.2.0)\n",
      "Requirement already satisfied: python-dateutil>=2.8.2 in d:\\user\\evheniia\\test tasks\\ml_ner_cv\\.venv\\lib\\site-packages (from pandas) (2.9.0.post0)\n",
      "Requirement already satisfied: pytz>=2020.1 in d:\\user\\evheniia\\test tasks\\ml_ner_cv\\.venv\\lib\\site-packages (from pandas) (2024.2)\n",
      "Requirement already satisfied: tzdata>=2022.7 in d:\\user\\evheniia\\test tasks\\ml_ner_cv\\.venv\\lib\\site-packages (from pandas) (2024.2)\n",
      "Requirement already satisfied: six>=1.5 in d:\\user\\evheniia\\test tasks\\ml_ner_cv\\.venv\\lib\\site-packages (from python-dateutil>=2.8.2->pandas) (1.17.0)\n"
     ]
    }
   ],
   "source": [
    "!pip install pandas\n",
    "        "
   ]
  },
  {
   "cell_type": "markdown",
   "metadata": {},
   "source": [
    "**Reading the List of Mountain Names**\n",
    "\n",
    "- What happens:\n",
    "\n",
    "Opens the file mountains_list100.txt, which contains a list of mountain names (one per line).\n",
    "Reads all mountain names into the list mountains.\n",
    "Removes empty lines and extra spaces using strip().\n",
    " - Result:\n",
    " \n",
    "A cleaned list of mountain names stored in mountains."
   ]
  },
  {
   "cell_type": "code",
   "execution_count": null,
   "metadata": {},
   "outputs": [],
   "source": [
    "\n",
    "file_path = 'data/mountains_list100.txt'\n",
    "\n",
    "with open(file_path, 'r') as file:\n",
    "    mountains = file.readlines()\n",
    "\n",
    "mountains = [mountain.strip() for mountain in mountains if mountain.strip()]\n"
   ]
  },
  {
   "cell_type": "markdown",
   "metadata": {},
   "source": [
    "**Replacing the Word \"mountains\" in Sentences with Mountain Names**\n",
    "\n",
    " - What happens:\n",
    "\n",
    "Opens the file mountains_sentences.csv, which contains textual sentences.\n",
    "In each sentence that contains the word \"mountains\", this word is replaced with a random mountain name from the mountains list.\n",
    "Modified sentences are stored in new_sentences.\n",
    "Writes the updated sentences to the file annotated_sentences500.csv.\n",
    " - Result:\n",
    " \n",
    "A file annotated_sentences500.csv with \"mountains\" replaced by specific mountain names."
   ]
  },
  {
   "cell_type": "code",
   "execution_count": null,
   "metadata": {},
   "outputs": [],
   "source": [
    "import random\n",
    "\n",
    "\n",
    "sentences_file_path = 'data/mountains_sentences.csv'\n",
    "mountains_file_path = 'data/mountains_list100.txt'\n",
    "output_file_path = 'data/annotated_sentences500.csv'   \n",
    "\n",
    "with open(mountains_file_path, 'r') as file:\n",
    "    mountains = [line.strip() for line in file.readlines()]\n",
    "\n",
    "new_sentences = []\n",
    "with open(sentences_file_path, 'r') as file:\n",
    "    for sentence in file:\n",
    "        if 'mountains' in sentence.lower():\n",
    "\n",
    "            new_sentence = sentence.replace('mountains', random.choice(mountains))\n",
    "            new_sentences.append(new_sentence)\n",
    "        else:\n",
    "            new_sentences.append(sentence)\n",
    "\n",
    "with open(output_file_path, 'w') as file:\n",
    "    for sentence in new_sentences:\n",
    "        file.write(sentence)"
   ]
  },
  {
   "cell_type": "markdown",
   "metadata": {},
   "source": [
    "**Tokenizing Sentences**\n",
    "\n",
    " - What happens:\n",
    "\n",
    "The tokenize function splits a sentence into individual words (tokens) and symbols (e.g., periods).\n",
    "Uses a regular expression \\b\\w+\\b|\\.:\n",
    "\\b\\w+\\b matches words (sequences of letters, digits, etc.).\n",
    "\\. matches periods.\n",
    " - Result:\n",
    "\n",
    "A list of tokens for each sentence.\n",
    "\n",
    "**Annotating Sentences in BIO Format**\n",
    "\n",
    "- What happens:\n",
    "\n",
    "The bio_annotate function assigns BIO labels to each token:\n",
    "B-MOUNTAIN (Begin) for the first token of a mountain name.\n",
    "I-MOUNTAIN (Inside) for subsequent tokens in the mountain name.\n",
    "O (Outside) for tokens not related to mountain names.\n",
    "Handles multi-word mountain names correctly.\n",
    " - Result:\n",
    "\n",
    "A list of BIO labels corresponding to the tokens in the sentence.\n",
    "\n",
    "**Annotating Text and Saving the Results**\n",
    "\n",
    " - What happens:\n",
    "\n",
    "Reads sentences from the file mountains_sentences.csv.\n",
    "For each sentence:\n",
    "Tokenizes it using tokenize.\n",
    "Annotates it using bio_annotate.\n",
    "Stores the tokens and labels in the list annotated_data.\n",
    "Creates a DataFrame df_annotations with columns:\n",
    "tokens — the list of tokens in each sentence.\n",
    "labels — the corresponding BIO labels.\n",
    "Saves the DataFrame to the file annotated_sentences500.csv.\n",
    " - Result:\n",
    " \n",
    "An annotated CSV file with tokens and their BIO labels.\n"
   ]
  },
  {
   "cell_type": "code",
   "execution_count": null,
   "metadata": {},
   "outputs": [],
   "source": [
    "import pandas as pd\n",
    "import csv\n",
    "import re\n",
    "\n",
    "file_path = 'data/annotated_sentences500.csv'\n",
    "df = pd.read_csv(file_path)\n",
    "\n",
    "mountains_file_path = 'data/mountains_list100.txt' \n",
    "with open(mountains_file_path, 'r') as file:\n",
    "    mountains = [line.strip() for line in file.readlines()]\n",
    "    mountains = sorted(mountains, key=len, reverse=True)  \n",
    "\n",
    "def tokenize(sentence):\n",
    "    return re.findall(r'\\b\\w+\\b|\\.', sentence)\n",
    "\n",
    "def bio_annotate(tokens, mountains):\n",
    "    labels = []\n",
    "    skip = 0\n",
    "    for i, token in enumerate(tokens):\n",
    "        if skip > 0:\n",
    "            skip -= 1\n",
    "            continue\n",
    "        matched = False\n",
    "        for mountain in mountains:\n",
    "            mountain_tokens = mountain.split()\n",
    "            if tokens[i:i+len(mountain_tokens)] == mountain_tokens:\n",
    "                labels += ['B-MOUNTAIN'] + ['I-MOUNTAIN'] * (len(mountain_tokens) - 1)\n",
    "                skip = len(mountain_tokens) - 1\n",
    "                matched = True\n",
    "                break\n",
    "        if not matched:\n",
    "            labels.append('O')\n",
    "    return labels\n",
    "\n",
    "file_path = 'data/mountains_sentences.csv'\n",
    "with open(file_path, 'r', encoding='utf-8') as file:\n",
    "    sentences = file.readlines()\n",
    "\n",
    "annotated_data = []\n",
    "for sentence in df['sentence']:\n",
    "    tokens = tokenize(sentence)\n",
    "    labels = bio_annotate(tokens, mountains)\n",
    "    annotated_data.append([tokens, labels])\n",
    "\n",
    "\n",
    "df_annotations = pd.DataFrame(annotated_data, columns=['tokens', 'labels'])\n",
    "df_annotations.to_csv('data/annotated_sentences500.csv', index=False)\n",
    "\n"
   ]
  },
  {
   "cell_type": "markdown",
   "metadata": {},
   "source": [
    "**Previewing the Results**\n",
    "\n",
    " - What happens:\n",
    "\n",
    "Loads the annotated file annotated_sentences500.csv.\n",
    "Displays the first 5 rows of the DataFrame for verification.\n",
    " - Result:\n",
    " \n",
    "A preview of the DataFrame with tokens and labels columns."
   ]
  },
  {
   "cell_type": "code",
   "execution_count": null,
   "metadata": {},
   "outputs": [
    {
     "data": {
      "text/html": [
       "<div>\n",
       "<style scoped>\n",
       "    .dataframe tbody tr th:only-of-type {\n",
       "        vertical-align: middle;\n",
       "    }\n",
       "\n",
       "    .dataframe tbody tr th {\n",
       "        vertical-align: top;\n",
       "    }\n",
       "\n",
       "    .dataframe thead th {\n",
       "        text-align: right;\n",
       "    }\n",
       "</style>\n",
       "<table border=\"1\" class=\"dataframe\">\n",
       "  <thead>\n",
       "    <tr style=\"text-align: right;\">\n",
       "      <th></th>\n",
       "      <th>tokens</th>\n",
       "      <th>labels</th>\n",
       "    </tr>\n",
       "  </thead>\n",
       "  <tbody>\n",
       "    <tr>\n",
       "      <th>0</th>\n",
       "      <td>['There', 'are', 'no', 'Manaslu', 'between', '...</td>\n",
       "      <td>['O', 'O', 'O', 'B-MOUNTAIN', 'O', 'O', 'O', '...</td>\n",
       "    </tr>\n",
       "    <tr>\n",
       "      <th>1</th>\n",
       "      <td>['We', 'were', 'just', 'about', 'to', 'go', 'u...</td>\n",
       "      <td>['O', 'O', 'O', 'O', 'O', 'O', 'O', 'O', 'O', ...</td>\n",
       "    </tr>\n",
       "    <tr>\n",
       "      <th>2</th>\n",
       "      <td>['The', 'quaint', 'village', 'is', 'surrounded...</td>\n",
       "      <td>['O', 'O', 'O', 'O', 'O', 'O', 'B-MOUNTAIN', '...</td>\n",
       "    </tr>\n",
       "    <tr>\n",
       "      <th>3</th>\n",
       "      <td>['Ridgway', 'a', 'few', 'more', 'miles', 'away...</td>\n",
       "      <td>['O', 'O', 'O', 'O', 'O', 'O', 'O', 'O', 'O', ...</td>\n",
       "    </tr>\n",
       "    <tr>\n",
       "      <th>4</th>\n",
       "      <td>['He', 'was', 'angry', 'with', 'her', 'for', '...</td>\n",
       "      <td>['O', 'O', 'O', 'O', 'O', 'O', 'O', 'O', 'O', ...</td>\n",
       "    </tr>\n",
       "  </tbody>\n",
       "</table>\n",
       "</div>"
      ],
      "text/plain": [
       "                                              tokens  \\\n",
       "0  ['There', 'are', 'no', 'Manaslu', 'between', '...   \n",
       "1  ['We', 'were', 'just', 'about', 'to', 'go', 'u...   \n",
       "2  ['The', 'quaint', 'village', 'is', 'surrounded...   \n",
       "3  ['Ridgway', 'a', 'few', 'more', 'miles', 'away...   \n",
       "4  ['He', 'was', 'angry', 'with', 'her', 'for', '...   \n",
       "\n",
       "                                              labels  \n",
       "0  ['O', 'O', 'O', 'B-MOUNTAIN', 'O', 'O', 'O', '...  \n",
       "1  ['O', 'O', 'O', 'O', 'O', 'O', 'O', 'O', 'O', ...  \n",
       "2  ['O', 'O', 'O', 'O', 'O', 'O', 'B-MOUNTAIN', '...  \n",
       "3  ['O', 'O', 'O', 'O', 'O', 'O', 'O', 'O', 'O', ...  \n",
       "4  ['O', 'O', 'O', 'O', 'O', 'O', 'O', 'O', 'O', ...  "
      ]
     },
     "execution_count": 61,
     "metadata": {},
     "output_type": "execute_result"
    }
   ],
   "source": [
    "import pandas as pd\n",
    "\n",
    "df = pd.read_csv(\"data/annotated_sentences500.csv\")\n",
    "df.head(5)"
   ]
  }
 ],
 "metadata": {
  "kernelspec": {
   "display_name": ".venv",
   "language": "python",
   "name": "python3"
  },
  "language_info": {
   "codemirror_mode": {
    "name": "ipython",
    "version": 3
   },
   "file_extension": ".py",
   "mimetype": "text/x-python",
   "name": "python",
   "nbconvert_exporter": "python",
   "pygments_lexer": "ipython3",
   "version": "3.11.5"
  }
 },
 "nbformat": 4,
 "nbformat_minor": 2
}
